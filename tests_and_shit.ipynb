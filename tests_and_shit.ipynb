{
 "cells": [
  {
   "cell_type": "code",
   "execution_count": 2,
   "metadata": {},
   "outputs": [],
   "source": [
    "from PIL import Image\n",
    "import numpy as np\n",
    "from filters import verticle_edges"
   ]
  },
  {
   "cell_type": "code",
   "execution_count": 4,
   "metadata": {},
   "outputs": [],
   "source": [
    "def apply_filter(image, filter:str) -> np.array:\n",
    "    height, width = image.shape\n",
    "    filter = verticle_edges()  # actually, it should be a hashmap here, but not today (later add)\n",
    "    output_image = np.zeros((height, width))\n",
    "    # function is unfinished"
   ]
  },
  {
   "cell_type": "markdown",
   "metadata": {},
   "source": [
    "For now this project is not finished (it's not even started tbh).<br>\n",
    "Later plans for this project:\n",
    "- More interesting filters\n",
    "- Flexibility (i.e my code somewhere is not \"general case\")\n",
    "- GUI (I'm not a GUI dude, but I think it'd be cool)"
   ]
  },
  {
   "cell_type": "code",
   "execution_count": null,
   "metadata": {},
   "outputs": [],
   "source": []
  }
 ],
 "metadata": {
  "kernelspec": {
   "display_name": "Python 3",
   "language": "python",
   "name": "python3"
  },
  "language_info": {
   "codemirror_mode": {
    "name": "ipython",
    "version": 3
   },
   "file_extension": ".py",
   "mimetype": "text/x-python",
   "name": "python",
   "nbconvert_exporter": "python",
   "pygments_lexer": "ipython3",
   "version": "3.12.3"
  }
 },
 "nbformat": 4,
 "nbformat_minor": 2
}
